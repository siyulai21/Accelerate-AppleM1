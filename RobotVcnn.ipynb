{
 "cells": [
  {
   "cell_type": "code",
   "execution_count": 61,
   "id": "5832d88f",
   "metadata": {},
   "outputs": [],
   "source": [
    "import torch\n",
    "import torchvision\n",
    "import torchvision.transforms as transforms\n",
    "import matplotlib.pyplot as plt\n",
    "import numpy as np\n",
    "from torch.utils.data import DataLoader, TensorDataset\n",
    "import torch.nn as nn\n",
    "import torch.nn.functional as F\n",
    "import torch.optim as optim\n",
    "import argparse\n",
    "from tqdm import tqdm\n",
    "import math\n",
    "import random\n",
    "seed = 0\n",
    "random.seed(seed)\n",
    "np.random.seed(seed)\n",
    "torch.manual_seed(seed)\n",
    "\n",
    "def imshow(img):    # unnormalize\n",
    "    img = (img - img.min())/(img.max()-img.min())\n",
    "    npimg = img.numpy()\n",
    "    plt.imshow(np.transpose(npimg, (1, 2, 0)))\n",
    "    plt.show()"
   ]
  },
  {
   "cell_type": "code",
   "execution_count": 62,
   "id": "43d6c315",
   "metadata": {},
   "outputs": [],
   "source": [
    "\n",
    "trainX = torch.load(\"csci-ua-473-intro-to-machine-learning-fall22/train/train/trainX.pt\")\n",
    "trainY = torch.load(\"csci-ua-473-intro-to-machine-learning-fall22/train/train/trainY.pt\")\n",
    "trainY = trainY[0].float()\n",
    "rgb_img = trainX[0]\n",
    "depth_img = trainX[1]\n",
    "\n",
    "\n",
    "z = depth_img.reshape(3396,3,1,224,224)\n",
    "rgbd_img = torch.cat((rgb_img, z),2)\n",
    "\n",
    "mean, std = rgbd_img.mean([3,4]), rgbd_img.std([3,4])\n",
    "normalized_rgbd_img = (rgbd_img - mean[:,:,:,None,None])/std[:,:,:,None,None]\n"
   ]
  },
  {
   "cell_type": "code",
   "execution_count": 63,
   "id": "ff76ef10",
   "metadata": {},
   "outputs": [],
   "source": [
    "\n",
    "train_data = TensorDataset(normalized_rgbd_img,trainY)\n",
    "train_dataloader = DataLoader(train_data, batch_size=64, shuffle=True)\n"
   ]
  },
  {
   "cell_type": "code",
   "execution_count": 64,
   "id": "01da7001",
   "metadata": {},
   "outputs": [],
   "source": [
    "# Uncomment of the following block to run"
   ]
  },
  {
   "cell_type": "code",
   "execution_count": 65,
   "id": "3dcfa7b7",
   "metadata": {},
   "outputs": [
    {
     "name": "stderr",
     "output_type": "stream",
     "text": [
      "19it [00:58,  3.07s/it]"
     ]
    },
    {
     "name": "stdout",
     "output_type": "stream",
     "text": [
      "[1,    20] loss: 0.006\n",
      "[1,    20] loss: 0.000\n"
     ]
    },
    {
     "name": "stderr",
     "output_type": "stream",
     "text": [
      "\r",
      "20it [01:01,  3.07s/it]"
     ]
    },
    {
     "name": "stdout",
     "output_type": "stream",
     "text": [
      "[1,    20] loss: 0.000\n"
     ]
    },
    {
     "name": "stderr",
     "output_type": "stream",
     "text": [
      "39it [02:00,  3.09s/it]"
     ]
    },
    {
     "name": "stdout",
     "output_type": "stream",
     "text": [
      "[1,    40] loss: 0.001\n",
      "[1,    40] loss: 0.000\n"
     ]
    },
    {
     "name": "stderr",
     "output_type": "stream",
     "text": [
      "\r",
      "40it [02:03,  3.06s/it]"
     ]
    },
    {
     "name": "stdout",
     "output_type": "stream",
     "text": [
      "[1,    40] loss: 0.000\n"
     ]
    },
    {
     "name": "stderr",
     "output_type": "stream",
     "text": [
      "54it [02:42,  3.02s/it]\n",
      "19it [00:55,  2.95s/it]"
     ]
    },
    {
     "name": "stdout",
     "output_type": "stream",
     "text": [
      "[2,    20] loss: 0.001\n",
      "[2,    20] loss: 0.000\n"
     ]
    },
    {
     "name": "stderr",
     "output_type": "stream",
     "text": [
      "\r",
      "20it [00:58,  2.94s/it]"
     ]
    },
    {
     "name": "stdout",
     "output_type": "stream",
     "text": [
      "[2,    20] loss: 0.000\n"
     ]
    },
    {
     "name": "stderr",
     "output_type": "stream",
     "text": [
      "39it [01:55,  2.97s/it]"
     ]
    },
    {
     "name": "stdout",
     "output_type": "stream",
     "text": [
      "[2,    40] loss: 0.000\n",
      "[2,    40] loss: 0.000\n"
     ]
    },
    {
     "name": "stderr",
     "output_type": "stream",
     "text": [
      "\r",
      "40it [01:58,  2.96s/it]"
     ]
    },
    {
     "name": "stdout",
     "output_type": "stream",
     "text": [
      "[2,    40] loss: 0.000\n"
     ]
    },
    {
     "name": "stderr",
     "output_type": "stream",
     "text": [
      "54it [02:37,  2.91s/it]\n",
      "19it [00:56,  2.99s/it]"
     ]
    },
    {
     "name": "stdout",
     "output_type": "stream",
     "text": [
      "[3,    20] loss: 0.000\n",
      "[3,    20] loss: 0.000\n"
     ]
    },
    {
     "name": "stderr",
     "output_type": "stream",
     "text": [
      "\r",
      "20it [00:59,  2.98s/it]"
     ]
    },
    {
     "name": "stdout",
     "output_type": "stream",
     "text": [
      "[3,    20] loss: 0.000\n"
     ]
    },
    {
     "name": "stderr",
     "output_type": "stream",
     "text": [
      "39it [01:56,  2.98s/it]"
     ]
    },
    {
     "name": "stdout",
     "output_type": "stream",
     "text": [
      "[3,    40] loss: 0.000\n",
      "[3,    40] loss: 0.000\n"
     ]
    },
    {
     "name": "stderr",
     "output_type": "stream",
     "text": [
      "\r",
      "40it [01:59,  2.97s/it]"
     ]
    },
    {
     "name": "stdout",
     "output_type": "stream",
     "text": [
      "[3,    40] loss: 0.000\n"
     ]
    },
    {
     "name": "stderr",
     "output_type": "stream",
     "text": [
      "54it [02:38,  2.94s/it]\n",
      "19it [00:56,  2.96s/it]"
     ]
    },
    {
     "name": "stdout",
     "output_type": "stream",
     "text": [
      "[4,    20] loss: 0.000\n",
      "[4,    20] loss: 0.000\n"
     ]
    },
    {
     "name": "stderr",
     "output_type": "stream",
     "text": [
      "\r",
      "20it [00:59,  2.96s/it]"
     ]
    },
    {
     "name": "stdout",
     "output_type": "stream",
     "text": [
      "[4,    20] loss: 0.000\n"
     ]
    },
    {
     "name": "stderr",
     "output_type": "stream",
     "text": [
      "39it [01:55,  2.99s/it]"
     ]
    },
    {
     "name": "stdout",
     "output_type": "stream",
     "text": [
      "[4,    40] loss: 0.000\n",
      "[4,    40] loss: 0.000\n"
     ]
    },
    {
     "name": "stderr",
     "output_type": "stream",
     "text": [
      "\r",
      "40it [01:58,  2.98s/it]"
     ]
    },
    {
     "name": "stdout",
     "output_type": "stream",
     "text": [
      "[4,    40] loss: 0.000\n"
     ]
    },
    {
     "name": "stderr",
     "output_type": "stream",
     "text": [
      "54it [02:37,  2.92s/it]\n",
      "19it [00:55,  2.96s/it]"
     ]
    },
    {
     "name": "stdout",
     "output_type": "stream",
     "text": [
      "[5,    20] loss: 0.000\n",
      "[5,    20] loss: 0.000\n"
     ]
    },
    {
     "name": "stderr",
     "output_type": "stream",
     "text": [
      "\r",
      "20it [00:58,  2.95s/it]"
     ]
    },
    {
     "name": "stdout",
     "output_type": "stream",
     "text": [
      "[5,    20] loss: 0.000\n"
     ]
    },
    {
     "name": "stderr",
     "output_type": "stream",
     "text": [
      "39it [01:55,  3.00s/it]"
     ]
    },
    {
     "name": "stdout",
     "output_type": "stream",
     "text": [
      "[5,    40] loss: 0.000\n",
      "[5,    40] loss: 0.000\n"
     ]
    },
    {
     "name": "stderr",
     "output_type": "stream",
     "text": [
      "\r",
      "40it [01:58,  2.98s/it]"
     ]
    },
    {
     "name": "stdout",
     "output_type": "stream",
     "text": [
      "[5,    40] loss: 0.000\n"
     ]
    },
    {
     "name": "stderr",
     "output_type": "stream",
     "text": [
      "54it [02:38,  2.93s/it]\n",
      "19it [00:56,  2.97s/it]"
     ]
    },
    {
     "name": "stdout",
     "output_type": "stream",
     "text": [
      "[6,    20] loss: 0.000\n",
      "[6,    20] loss: 0.000\n"
     ]
    },
    {
     "name": "stderr",
     "output_type": "stream",
     "text": [
      "\r",
      "20it [00:59,  2.96s/it]"
     ]
    },
    {
     "name": "stdout",
     "output_type": "stream",
     "text": [
      "[6,    20] loss: 0.000\n"
     ]
    },
    {
     "name": "stderr",
     "output_type": "stream",
     "text": [
      "39it [01:56,  3.02s/it]"
     ]
    },
    {
     "name": "stdout",
     "output_type": "stream",
     "text": [
      "[6,    40] loss: 0.000\n",
      "[6,    40] loss: 0.000\n"
     ]
    },
    {
     "name": "stderr",
     "output_type": "stream",
     "text": [
      "\r",
      "40it [01:59,  3.04s/it]"
     ]
    },
    {
     "name": "stdout",
     "output_type": "stream",
     "text": [
      "[6,    40] loss: 0.000\n"
     ]
    },
    {
     "name": "stderr",
     "output_type": "stream",
     "text": [
      "54it [02:39,  2.96s/it]\n",
      "19it [00:57,  3.01s/it]"
     ]
    },
    {
     "name": "stdout",
     "output_type": "stream",
     "text": [
      "[7,    20] loss: 0.000\n",
      "[7,    20] loss: 0.000\n"
     ]
    },
    {
     "name": "stderr",
     "output_type": "stream",
     "text": [
      "\r",
      "20it [01:00,  3.00s/it]"
     ]
    },
    {
     "name": "stdout",
     "output_type": "stream",
     "text": [
      "[7,    20] loss: 0.000\n"
     ]
    },
    {
     "name": "stderr",
     "output_type": "stream",
     "text": [
      "39it [01:58,  3.15s/it]"
     ]
    },
    {
     "name": "stdout",
     "output_type": "stream",
     "text": [
      "[7,    40] loss: 0.000\n",
      "[7,    40] loss: 0.000\n"
     ]
    },
    {
     "name": "stderr",
     "output_type": "stream",
     "text": [
      "\r",
      "40it [02:01,  3.13s/it]"
     ]
    },
    {
     "name": "stdout",
     "output_type": "stream",
     "text": [
      "[7,    40] loss: 0.000\n"
     ]
    },
    {
     "name": "stderr",
     "output_type": "stream",
     "text": [
      "54it [02:41,  2.98s/it]\n",
      "19it [00:57,  3.09s/it]"
     ]
    },
    {
     "name": "stdout",
     "output_type": "stream",
     "text": [
      "[8,    20] loss: 0.000\n",
      "[8,    20] loss: 0.000\n"
     ]
    },
    {
     "name": "stderr",
     "output_type": "stream",
     "text": [
      "\r",
      "20it [01:00,  3.13s/it]"
     ]
    },
    {
     "name": "stdout",
     "output_type": "stream",
     "text": [
      "[8,    20] loss: 0.000\n"
     ]
    },
    {
     "name": "stderr",
     "output_type": "stream",
     "text": [
      "39it [02:00,  3.14s/it]"
     ]
    },
    {
     "name": "stdout",
     "output_type": "stream",
     "text": [
      "[8,    40] loss: 0.000\n",
      "[8,    40] loss: 0.000\n"
     ]
    },
    {
     "name": "stderr",
     "output_type": "stream",
     "text": [
      "\r",
      "40it [02:03,  3.13s/it]"
     ]
    },
    {
     "name": "stdout",
     "output_type": "stream",
     "text": [
      "[8,    40] loss: 0.000\n"
     ]
    },
    {
     "name": "stderr",
     "output_type": "stream",
     "text": [
      "54it [02:44,  3.05s/it]\n",
      "19it [00:59,  3.15s/it]"
     ]
    },
    {
     "name": "stdout",
     "output_type": "stream",
     "text": [
      "[9,    20] loss: 0.000\n",
      "[9,    20] loss: 0.000\n"
     ]
    },
    {
     "name": "stderr",
     "output_type": "stream",
     "text": [
      "\r",
      "20it [01:02,  3.14s/it]"
     ]
    },
    {
     "name": "stdout",
     "output_type": "stream",
     "text": [
      "[9,    20] loss: 0.000\n"
     ]
    },
    {
     "name": "stderr",
     "output_type": "stream",
     "text": [
      "39it [02:02,  3.15s/it]"
     ]
    },
    {
     "name": "stdout",
     "output_type": "stream",
     "text": [
      "[9,    40] loss: 0.000\n",
      "[9,    40] loss: 0.000\n"
     ]
    },
    {
     "name": "stderr",
     "output_type": "stream",
     "text": [
      "\r",
      "40it [02:05,  3.14s/it]"
     ]
    },
    {
     "name": "stdout",
     "output_type": "stream",
     "text": [
      "[9,    40] loss: 0.000\n"
     ]
    },
    {
     "name": "stderr",
     "output_type": "stream",
     "text": [
      "54it [02:46,  3.08s/it]\n",
      "19it [00:59,  3.15s/it]"
     ]
    },
    {
     "name": "stdout",
     "output_type": "stream",
     "text": [
      "[10,    20] loss: 0.000\n",
      "[10,    20] loss: 0.000\n"
     ]
    },
    {
     "name": "stderr",
     "output_type": "stream",
     "text": [
      "\r",
      "20it [01:02,  3.13s/it]"
     ]
    },
    {
     "name": "stdout",
     "output_type": "stream",
     "text": [
      "[10,    20] loss: 0.000\n"
     ]
    },
    {
     "name": "stderr",
     "output_type": "stream",
     "text": [
      "39it [02:02,  3.15s/it]"
     ]
    },
    {
     "name": "stdout",
     "output_type": "stream",
     "text": [
      "[10,    40] loss: 0.000\n",
      "[10,    40] loss: 0.000\n"
     ]
    },
    {
     "name": "stderr",
     "output_type": "stream",
     "text": [
      "\r",
      "40it [02:05,  3.13s/it]"
     ]
    },
    {
     "name": "stdout",
     "output_type": "stream",
     "text": [
      "[10,    40] loss: 0.000\n"
     ]
    },
    {
     "name": "stderr",
     "output_type": "stream",
     "text": [
      "54it [02:46,  3.09s/it]"
     ]
    },
    {
     "name": "stdout",
     "output_type": "stream",
     "text": [
      "Finished Training\n"
     ]
    },
    {
     "name": "stderr",
     "output_type": "stream",
     "text": [
      "\n"
     ]
    }
   ],
   "source": [
    "class Net(nn.Module):\n",
    "\n",
    "    def __init__(self,\n",
    "                 conv_layers=2,\n",
    "                 linear_layers=3,\n",
    "                 in_channels=4,\n",
    "                 out_channels=3,\n",
    "                 kernel_size=5,\n",
    "                 h_dim=120,\n",
    "                 stride=1,\n",
    "                 padding=0,\n",
    "                 dilation=1):\n",
    "        super(Net, self).__init__()\n",
    "        self.in_channels=in_channels\n",
    "        self.out_channels=out_channels\n",
    "        self.kernel_size=kernel_size\n",
    "        self.stride=stride\n",
    "        self.padding=padding\n",
    "        self.dilation=dilation\n",
    "        self.h_dim=h_dim\n",
    "        self.convs = torch.nn.Sequential()\n",
    "        self.linear = torch.nn.Sequential()\n",
    "        self.conv_layers=conv_layers\n",
    "        self.linear_layers=linear_layers\n",
    "\n",
    "        in_c = in_channels\n",
    "        out_c = out_channels\n",
    "        for layer in range(conv_layers):\n",
    "            self.convs.add_module(\"convs%d\" % (layer),nn.Conv2d(in_c, out_c,kernel_size))\n",
    "            self.convs.add_module(\"convs_relu%d\" % (layer), nn.ReLU())\n",
    "            self.convs.add_module(\"pool%d\" % layer, nn.MaxPool2d(2,2))\n",
    "            in_c = out_c\n",
    "\n",
    "        in_d = 8427 # fix this \n",
    "        for layer in range(linear_layers-1):\n",
    "            self.linear.add_module(\"mlp_%d\" % (layer),nn.Linear(in_d,h_dim))\n",
    "            self.linear.add_module(\"mlp_relu%d\" % (layer), nn.ReLU())\n",
    "            in_d = h_dim\n",
    "        self.linear.add_module(\"mlp_%d\" % (layer + 1), nn.Linear(in_d, 12))\n",
    "\n",
    "    def forward(self,x):\n",
    "\n",
    "        x = self.convs(x)\n",
    "        x = torch.flatten(x, 1)\n",
    "        x = self.linear(x)\n",
    "        return x\n",
    "    \n",
    "net = Net()\n",
    "\n",
    "criterion = nn.MSELoss()\n",
    "optimizer = optim.Adam(net.parameters(), lr=0.001)\n",
    "Loss = []\n",
    "for epoch in range(10):\n",
    "    running_loss = 0.\n",
    "    for i, data in tqdm(enumerate(train_dataloader)):\n",
    "        inputs, labels = data\n",
    "        for view in range(3):\n",
    "            view_inputs = inputs[:,view,:,:]\n",
    "            # zero the parameter gradients\n",
    "            optimizer.zero_grad()\n",
    "\n",
    "            # forward + backward + optimize\n",
    "            outputs = net(view_inputs)\n",
    "            loss = criterion(outputs, labels)\n",
    "            loss.backward()\n",
    "            optimizer.step()\n",
    "\n",
    "            # print statistics\n",
    "            running_loss += loss.item()\n",
    "            Loss.append(loss.item())\n",
    "            if i % 20 == 19:  # print every 20 mini-batches\n",
    "                print(f'[{epoch + 1}, {i + 1:5d}] loss: {running_loss / 20:.3f}')\n",
    "                running_loss = 0.0\n",
    "\n",
    "print('Finished Training')"
   ]
  },
  {
   "cell_type": "code",
   "execution_count": 66,
   "id": "63bdf05a",
   "metadata": {},
   "outputs": [],
   "source": [
    "# class Net2(nn.Module):\n",
    "#     def __init__(self, \n",
    "#                  kernel_size, \n",
    "#                  stride, \n",
    "#                  padding, \n",
    "#                  dilation,\n",
    "#                  pooling_kernel_size,\n",
    "#                  pooling_stride,\n",
    "#                  pooling_padding,\n",
    "#                  pooling_dilation,\n",
    "#                  num_linear_layers=3, \n",
    "#                  out_dim=12,\n",
    "#                  pooling=True,\n",
    "#                  num_conv_layers=3, \n",
    "#                  in_channels=4, \n",
    "#                  z_dim=512, \n",
    "#                  in_height=224, \n",
    "#                  in_width=224, \n",
    "#                  filter_size=8):\n",
    "        \n",
    "#         super(Net2, self).__init__()\n",
    "#         self.z_dim=z_dim\n",
    "#         self.in_channels = in_channels\n",
    "#         self.filter_size = filter_size\n",
    "\n",
    "#         self.convs = torch.nn.Sequential()\n",
    "#         self.linear = torch.nn.Sequential()\n",
    "#         mul = 1\n",
    "#         in_dim = in_channels\n",
    "#         for _ in range(num_conv_layers):\n",
    "#             self.convs.add_module(\"conv_%d\" % (_), (nn.Conv2d(in_dim, filter_size * mul, kernel_size=kernel_size, stride=stride, padding=padding)))\n",
    "#             self.convs.add_module(\"bn_1%d\" % (_), nn.BatchNorm2d(filter_size * mul))\n",
    "#             self.convs.add_module(\"conv_relu%d\" % (_), nn.ReLU())\n",
    "#             in_dim = filter_size * mul\n",
    "#             mul *= 2\n",
    "#             # compute conv2d output dimension \n",
    "#             in_height = math.floor((in_height + 2 * padding[0] - dilation[0] * (kernel_size[0] - 1) - 1) / stride[0] + 1)\n",
    "#             in_width = math.floor((in_width + 2 * padding[1] - dilation[1] * (kernel_size[1] - 1) - 1) / stride[1] + 1)\n",
    "            \n",
    "            \n",
    "#             # compute maxpool2D output dimension\n",
    "#             if pooling:\n",
    "#                 self.convs.add_module(\"pool%d\" % (_), nn.MaxPool2d(pooling_kernel_size, pooling_stride,pooling_padding,pooling_dilation))\n",
    "#                 in_height = math.floor((in_height + 2 * pooling_padding[0] - pooling_dilation[0] * (pooling_kernel_size[0] - 1) - 1) / pooling_stride[0] + 1)\n",
    "#                 in_width = math.floor((in_width + 2 * pooling_padding[1] - pooling_dilation[1] * (pooling_kernel_size[1] - 1) - 1) / pooling_stride[1] + 1)\n",
    "                \n",
    "#         self.h_dim = [in_dim,in_width,in_height]\n",
    "\n",
    "#         in_dim = self.h_dim[0] * self.h_dim[1] * self.h_dim[2]\n",
    "#         for _ in range(num_linear_layers-1):\n",
    "#             self.linear.add_module(\"lienar_%d\"%(_), nn.Linear(in_dim,z_dim))\n",
    "#             self.linear.add_module(\"linear_relu%d\" % (_), nn.ReLU())\n",
    "#             in_dim = z_dim\n",
    "#         self.linear.add_module(\"lienar_%d\"%(_+1), nn.Linear(in_dim,out_dim))\n",
    "\n",
    "#     def forward(self,x):\n",
    "\n",
    "#         x = self.convs(x)\n",
    "#         x = x.view(x.size(0), -1)\n",
    "#         x = self.linear(x)\n",
    "#         return x\n",
    "\n",
    "# num_layers = 4\n",
    "# z_dim=128\n",
    "# filter_size=64\n",
    "\n",
    "# kernel_size = [5,5]\n",
    "# stride = [1] * 2 # if can also be [[2,2] * num_layers] --> stride[_][0]\n",
    "# padding = [0] * 2\n",
    "# dilation = [1] * 2\n",
    "\n",
    "# pooling_kernel_size = [2,2]\n",
    "# pooling_stride = [2] * 2 # if can also be [[2,2] * num_layers] --> stride[_][0]\n",
    "# pooling_padding = [0] * 2\n",
    "# pooling_dilation = [1] * 2\n",
    "\n",
    "# in_channels = 1\n",
    "# in_height = in_width = 224\n",
    "# lr=1e-3\n",
    "\n",
    "# net2 =  Net2(num_conv_layers=num_layers,\n",
    "#             num_linear_layers=num_layers,\n",
    "#             in_height = in_height,\n",
    "#             dilation=dilation,\n",
    "#             in_width=in_width ,\n",
    "#             kernel_size=kernel_size,\n",
    "#             stride=stride, padding=padding,\n",
    "#             z_dim=z_dim,\n",
    "#             filter_size=filter_size,\n",
    "#             pooling_kernel_size = pooling_kernel_size,\n",
    "#             pooling_stride = pooling_stride,\n",
    "#             pooling_padding = pooling_padding,\n",
    "#             pooling_dilation = pooling_dilation\n",
    "#           )\n",
    "\n",
    "# criterion = nn.MSELoss()\n",
    "# optimizer = optim.Adam(net2.parameters(), lr=0.001)\n",
    "# Loss = []\n",
    "# for epoch in range(10):\n",
    "#     running_loss = 0.\n",
    "#     for i, data in tqdm(enumerate(train_dataloader)):\n",
    "#         inputs, labels = data\n",
    "#         for view in range(3):\n",
    "#             view_inputs = inputs[:,view,:,:]\n",
    "#             # zero the parameter gradients\n",
    "#             optimizer.zero_grad()\n",
    "\n",
    "#             # forward + backward + optimize\n",
    "#             outputs = net2(view_inputs)\n",
    "#             loss = criterion(outputs, labels)\n",
    "#             loss.backward()\n",
    "#             optimizer.step()\n",
    "\n",
    "#             # print statistics\n",
    "#             running_loss += loss.item()\n",
    "#             Loss.append(loss.item())\n",
    "#             if i % 20 == 19:  # print every 20 mini-batches\n",
    "#                 print(f'[{epoch + 1}, {i + 1:5d}] loss: {running_loss / 20:.3f}')\n",
    "#                 running_loss = 0.0\n",
    "\n",
    "# print('Finished Training')"
   ]
  },
  {
   "cell_type": "code",
   "execution_count": null,
   "id": "84ef0da4",
   "metadata": {},
   "outputs": [],
   "source": []
  },
  {
   "cell_type": "code",
   "execution_count": 67,
   "id": "bf36673c",
   "metadata": {},
   "outputs": [
    {
     "data": {
      "text/plain": [
       "[<matplotlib.lines.Line2D at 0x7fdf13121430>]"
      ]
     },
     "execution_count": 67,
     "metadata": {},
     "output_type": "execute_result"
    },
    {
     "data": {
      "image/png": "[encoded data removed]",
      "text/plain": [
       "<Figure size 432x288 with 1 Axes>"
      ]
     },
     "metadata": {
      "needs_background": "light"
     },
     "output_type": "display_data"
    }
   ],
   "source": [
    "plt.plot(Loss[100:])"
   ]
  },
  {
   "cell_type": "code",
   "execution_count": 69,
   "id": "90ea80be",
   "metadata": {},
   "outputs": [],
   "source": [
    "test_dir = \"csci-ua-473-intro-to-machine-learning-fall22/test/test/testX.pt\"\n",
    "testX = torch.load(test_dir)\n",
    "rgb_img = testX[0]\n",
    "depth_img = testX[1]\n",
    "\n",
    "z = depth_img.reshape(849, 3, 1, 224, 224)\n",
    "rgbd_img = torch.cat((rgb_img, z), 2)\n",
    "\n",
    "mean, std = rgbd_img.mean([3, 4]), rgbd_img.std([3, 4])\n",
    "normalized_rgbd_img = (rgbd_img - mean[:, :, :, None, None]) / std[:, :, :, None, None]\n",
    "test_dataloader = DataLoader(normalized_rgbd_img, batch_size=64, shuffle=False)"
   ]
  },
  {
   "cell_type": "code",
   "execution_count": 70,
   "id": "741ef8f3",
   "metadata": {},
   "outputs": [
    {
     "name": "stderr",
     "output_type": "stream",
     "text": [
      "14it [00:08,  1.67it/s]\n"
     ]
    }
   ],
   "source": [
    "\n",
    "\n",
    "\n",
    "import pickle\n",
    "import pandas as pd\n",
    "\n",
    "outfile = 'submission.csv'\n",
    "file_ids = [int(Id) for Id in testX[-1]]\n",
    "output_file = open(outfile, 'w')\n",
    "\n",
    "titles = ['ID', 'FINGER_POS_1', 'FINGER_POS_2', 'FINGER_POS_3', 'FINGER_POS_4', 'FINGER_POS_5', 'FINGER_POS_6',\n",
    "         'FINGER_POS_7', 'FINGER_POS_8', 'FINGER_POS_9', 'FINGER_POS_10', 'FINGER_POS_11', 'FINGER_POS_12']\n",
    "preds = []\n",
    "\n",
    "\n",
    "for i, data in tqdm(enumerate(test_dataloader)):\n",
    "        inputs = data\n",
    "        view_inputs = inputs[:,0,:,:]\n",
    "        outputs = net(view_inputs)\n",
    "        preds.append(outputs.detach().numpy())\n"
   ]
  },
  {
   "cell_type": "code",
   "execution_count": 71,
   "id": "0f2291a7",
   "metadata": {},
   "outputs": [
    {
     "name": "stdout",
     "output_type": "stream",
     "text": [
      "Written to csv file submission.csv\n"
     ]
    }
   ],
   "source": [
    "preds = pd.DataFrame(np.vstack(preds))\n",
    "df = pd.concat([pd.DataFrame(file_ids), preds], axis = 1, names = titles)\n",
    "df.columns = titles\n",
    "df.to_csv(outfile, index = False)\n",
    "print(\"Written to csv file {}\".format(outfile))"
   ]
  },
  {
   "cell_type": "code",
   "execution_count": null,
   "id": "08b63cd1",
   "metadata": {},
   "outputs": [],
   "source": []
  },
  {
   "cell_type": "code",
   "execution_count": null,
   "id": "368657dd",
   "metadata": {},
   "outputs": [],
   "source": []
  },
  {
   "cell_type": "code",
   "execution_count": 5,
   "id": "fe859a4f",
   "metadata": {},
   "outputs": [],
   "source": [
    "data = next(iter(train_dataloader))"
   ]
  },
  {
   "cell_type": "code",
   "execution_count": null,
   "id": "97c16672",
   "metadata": {},
   "outputs": [],
   "source": []
  },
  {
   "cell_type": "code",
   "execution_count": null,
   "id": "09230eac",
   "metadata": {},
   "outputs": [],
   "source": []
  },
  {
   "cell_type": "code",
   "execution_count": null,
   "id": "ec596bc0",
   "metadata": {},
   "outputs": [],
   "source": []
  },
  {
   "cell_type": "code",
   "execution_count": null,
   "id": "895210b3",
   "metadata": {},
   "outputs": [],
   "source": []
  },
  {
   "cell_type": "code",
   "execution_count": null,
   "id": "d8f73c53",
   "metadata": {},
   "outputs": [],
   "source": []
  }
 ],
 "metadata": {
  "kernelspec": {
   "display_name": "Python 3 (ipykernel)",
   "language": "python",
   "name": "python3"
  },
  "language_info": {
   "codemirror_mode": {
    "name": "ipython",
    "version": 3
   },
   "file_extension": ".py",
   "mimetype": "text/x-python",
   "name": "python",
   "nbconvert_exporter": "python",
   "pygments_lexer": "ipython3",
   "version": "3.9.12"
  }
 },
 "nbformat": 4,
 "nbformat_minor": 5
}
